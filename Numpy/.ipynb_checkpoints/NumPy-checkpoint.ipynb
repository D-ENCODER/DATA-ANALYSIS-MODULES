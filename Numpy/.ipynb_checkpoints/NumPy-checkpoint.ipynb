{
 "cells": [
  {
   "cell_type": "code",
   "execution_count": 4,
   "id": "14270b05-9a93-4a44-9de7-6cf5bedec247",
   "metadata": {
    "tags": []
   },
   "outputs": [],
   "source": [
    "import numpy as np"
   ]
  },
  {
   "cell_type": "code",
   "execution_count": 5,
   "id": "3a860133-2d4f-4daa-a1a3-273a98b9e977",
   "metadata": {
    "tags": []
   },
   "outputs": [],
   "source": [
    "a = np.array([1, 2, 3, 4, 5])"
   ]
  },
  {
   "cell_type": "code",
   "execution_count": 8,
   "id": "5c272d68-6966-4d22-8688-b2e2b9f67f7b",
   "metadata": {
    "tags": []
   },
   "outputs": [
    {
     "name": "stdout",
     "output_type": "stream",
     "text": [
      "<class 'numpy.ndarray'>\n",
      "int32\n",
      "5\n",
      "(5,)\n",
      "1\n"
     ]
    }
   ],
   "source": [
    "print(type(a))  #Type of the array\n",
    "print(a.dtype)  #Data type of the array (can varry from PC to PC or from OS to OS)\n",
    "print(a.size)   #Size of the array (element count)\n",
    "print(a.shape)  #Shape of the array(will get size of array in first index in tuple and second index will contain rank in the array)\n",
    "print(a.ndim)   #Dimentions of the array"
   ]
  },
  {
   "cell_type": "code",
   "execution_count": 11,
   "id": "319c9956-6f68-4f38-b671-f8ee6a94ab0f",
   "metadata": {
    "tags": []
   },
   "outputs": [],
   "source": [
    "b = np.array([[1, 2], [3, 4]])"
   ]
  },
  {
   "cell_type": "code",
   "execution_count": 12,
   "id": "05d065cf-e096-49fa-81f9-f26d3ae76262",
   "metadata": {
    "tags": []
   },
   "outputs": [
    {
     "name": "stdout",
     "output_type": "stream",
     "text": [
      "<class 'numpy.ndarray'>\n",
      "int32\n",
      "4\n",
      "(2, 2)\n",
      "2\n",
      "4\n",
      "<memory at 0x000001BE12AEC930>\n"
     ]
    }
   ],
   "source": [
    "print(type(b))    #Type of the array\n",
    "print(b.dtype)    #Data type of the array (can varry from PC to PC or from OS to OS)\n",
    "print(b.size)     #Size of the array (element count)\n",
    "print(b.shape)    #Shape of the array(will get size of array in first index in tuple and second index will contain rank in the array)\n",
    "print(b.ndim)     #Dimentions of the array\n",
    "print(b.itemsize) #Size(in bytes) of each element in array\n",
    "print(b.data)     #Buffer data like memory address and much more (not usefull just for knowledge)"
   ]
  },
  {
   "cell_type": "markdown",
   "id": "384ee709-be9e-462b-82cf-b7000a4d4f93",
   "metadata": {},
   "source": [
    "Intrinsic Creation of an Array"
   ]
  },
  {
   "cell_type": "code",
   "execution_count": 24,
   "id": "b32fab75-dc55-49fa-97ff-bcf6ebd52aa9",
   "metadata": {
    "tags": []
   },
   "outputs": [
    {
     "name": "stdout",
     "output_type": "stream",
     "text": [
      "[[0. 0. 0.]\n",
      " [0. 0. 0.]\n",
      " [0. 0. 0.]]\n",
      "\n",
      "[[1. 1. 1.]\n",
      " [1. 1. 1.]\n",
      " [1. 1. 1.]]\n",
      "\n",
      "[0 1 2 3 4 5 6 7 8 9]\n",
      "\n",
      "[0 3 6 9]\n",
      "\n",
      "[[ 0  1  2  3]\n",
      " [ 4  5  6  7]\n",
      " [ 8  9 10 11]]\n",
      "\n",
      "[ 0.    1.25  2.5   3.75  5.    6.25  7.5   8.75 10.  ]\n",
      "\n",
      "[[0.06389769 0.49836649 0.76573997 0.13856661]\n",
      " [0.03411835 0.57213625 0.07429396 0.52713645]\n",
      " [0.86069221 0.02424938 0.84732688 0.82160663]\n",
      " [0.23328551 0.16417598 0.47014378 0.10935562]]\n",
      "\n"
     ]
    }
   ],
   "source": [
    "print(np.zeros((3, 3)), end=\"\\n\\n\")                 #This creates an array with 0 as their data\n",
    "print(np.ones((3, 3)), end=\"\\n\\n\")                  #This creates an array with 1 as their data\n",
    "print(np.arange(0, 10), end=\"\\n\\n\")                 #This creates an array with 0 to 9 continuous data\n",
    "print(np.arange(0, 10, 3), end=\"\\n\\n\")              #This creates an array with 0 to 9 and with a jump of 3\n",
    "print(np.arange(0, 12).reshape(3, 4), end=\"\\n\\n\")   #This will reshape the array with the rank and size given\n",
    "print(np.linspace(0, 10, 9), end=\"\\n\\n\")            #This will create an array with given space between numbers\n",
    "print(np.random.random((4, 4)), end=\"\\n\\n\")         #This will create an array with random data"
   ]
  },
  {
   "cell_type": "code",
   "execution_count": null,
   "id": "3111e29c-1a57-433f-a704-7f474e452438",
   "metadata": {},
   "outputs": [],
   "source": []
  }
 ],
 "metadata": {
  "kernelspec": {
   "display_name": "Python 3 (ipykernel)",
   "language": "python",
   "name": "python3"
  },
  "language_info": {
   "codemirror_mode": {
    "name": "ipython",
    "version": 3
   },
   "file_extension": ".py",
   "mimetype": "text/x-python",
   "name": "python",
   "nbconvert_exporter": "python",
   "pygments_lexer": "ipython3",
   "version": "3.11.2"
  }
 },
 "nbformat": 4,
 "nbformat_minor": 5
}
